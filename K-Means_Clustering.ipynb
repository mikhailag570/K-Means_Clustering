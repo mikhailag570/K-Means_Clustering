{
 "cells": [
  {
   "cell_type": "code",
   "execution_count": null,
   "id": "830f894c",
   "metadata": {},
   "outputs": [],
   "source": [
    "'''\n",
    "K-Means Clustering\n",
    "'''"
   ]
  },
  {
   "cell_type": "code",
   "execution_count": 1,
   "id": "25c8d544",
   "metadata": {},
   "outputs": [],
   "source": [
    "import numpy as np\n",
    "import pandas as pd\n",
    "import matplotlib.pyplot as plt\n",
    "import seaborn as sns\n",
    "%matplotlib inline\n",
    "\n",
    "import warnings\n",
    "warnings.filterwarnings('ignore')"
   ]
  },
  {
   "cell_type": "code",
   "execution_count": null,
   "id": "c2b6edad",
   "metadata": {},
   "outputs": [],
   "source": [
    "df = pd.read_csv('Live.csv')\n",
    "print(df.shape)\n",
    "df.head()"
   ]
  },
  {
   "cell_type": "code",
   "execution_count": null,
   "id": "bbf2f824",
   "metadata": {},
   "outputs": [],
   "source": [
    "'''\n",
    "Мы видим, что в наборе данных 7050 экземпляров и 16 атрибутов. \n",
    "В описании набора данных указано, что в наборе данных 7051 экземпляр и 12 атрибутов.\n",
    "\n",
    "Итак, мы можем сделать вывод, что первый экземпляр — это заголовок строки, и в наборе данных есть 4 дополнительных атрибута.\n",
    "'''"
   ]
  },
  {
   "cell_type": "code",
   "execution_count": null,
   "id": "5988103a",
   "metadata": {},
   "outputs": [],
   "source": [
    "df.info()"
   ]
  },
  {
   "cell_type": "code",
   "execution_count": null,
   "id": "c9326d12",
   "metadata": {},
   "outputs": [],
   "source": [
    "df.isnull().sum()"
   ]
  },
  {
   "cell_type": "code",
   "execution_count": null,
   "id": "89c01750",
   "metadata": {},
   "outputs": [],
   "source": [
    "'''\n",
    "Мы видим, что в наборе данных есть 4 избыточных столбца. Нам следует отбросить их, прежде чем двигаться дальше.\n",
    "'''"
   ]
  },
  {
   "cell_type": "code",
   "execution_count": null,
   "id": "d2faf24a",
   "metadata": {},
   "outputs": [],
   "source": [
    "df.drop(['Column1', 'Column2', 'Column3', 'Column4'], axis=1, inplace=True)\n",
    "df.info()"
   ]
  },
  {
   "cell_type": "code",
   "execution_count": null,
   "id": "6485abfc",
   "metadata": {},
   "outputs": [],
   "source": [
    "'''\n",
    "Мы видим, что есть 3 символьные переменные (тип данных = объект) и оставшиеся 9 числовых переменных (тип данных = int64).\n",
    "'''"
   ]
  },
  {
   "cell_type": "code",
   "execution_count": null,
   "id": "cbea8033",
   "metadata": {},
   "outputs": [],
   "source": [
    "# Просмотр статистической сводки числовых переменных\n",
    "\n",
    "df.describe()"
   ]
  },
  {
   "cell_type": "code",
   "execution_count": null,
   "id": "0a68dcc3",
   "metadata": {},
   "outputs": [],
   "source": [
    "'''\n",
    "В наборе данных есть 3 категориальные переменные. Будем исследовать их одину за другой.\n",
    "'''"
   ]
  },
  {
   "cell_type": "code",
   "execution_count": null,
   "id": "fa6bffec",
   "metadata": {},
   "outputs": [],
   "source": [
    "len(df['status_id'].unique())"
   ]
  },
  {
   "cell_type": "code",
   "execution_count": null,
   "id": "5c31ba36",
   "metadata": {},
   "outputs": [],
   "source": [
    "'''\n",
    "Мы видим, что в переменной status_id 6997 уникальных меток. \n",
    "Общее количество экземпляров в наборе данных — 7050. \n",
    "То есть это уникальный идентификатор для каждого из экземпляров. \n",
    "Таким образом, это не та переменная, которую мы можем использовать.\n",
    "'''"
   ]
  },
  {
   "cell_type": "code",
   "execution_count": null,
   "id": "d9fa6cea",
   "metadata": {},
   "outputs": [],
   "source": [
    "df['status_published'].unique()"
   ]
  },
  {
   "cell_type": "code",
   "execution_count": null,
   "id": "6222eafd",
   "metadata": {},
   "outputs": [],
   "source": [
    "len(df['status_published'].unique())"
   ]
  },
  {
   "cell_type": "code",
   "execution_count": null,
   "id": "8146d253",
   "metadata": {},
   "outputs": [],
   "source": [
    "'''\n",
    "Опять же, мы видим, что в переменной status_published 6913 уникальных меток. \n",
    "Общее количество экземпляров в наборе данных — 7050. \n",
    "То есть это еще и примерно уникальный идентификатор для каждого из экземпляров. \n",
    "Таким образом, это не та переменная, которую мы можем использовать.\n",
    "'''"
   ]
  },
  {
   "cell_type": "code",
   "execution_count": null,
   "id": "b500bc15",
   "metadata": {},
   "outputs": [],
   "source": [
    "df['status_type'].unique()"
   ]
  },
  {
   "cell_type": "code",
   "execution_count": null,
   "id": "aff92d92",
   "metadata": {},
   "outputs": [],
   "source": [
    "len(df['status_type'].unique())"
   ]
  },
  {
   "cell_type": "code",
   "execution_count": null,
   "id": "416e5d77",
   "metadata": {},
   "outputs": [],
   "source": [
    "'''\n",
    "Мы видим, что в переменной status_type есть 4 категории меток.\n",
    "Удалим переменные status_id и status_published из набора данных.\n",
    "'''"
   ]
  },
  {
   "cell_type": "code",
   "execution_count": null,
   "id": "73502c00",
   "metadata": {},
   "outputs": [],
   "source": [
    "df.drop(['status_id', 'status_published'], axis=1, inplace=True)\n",
    "\n",
    "df.info()"
   ]
  },
  {
   "cell_type": "code",
   "execution_count": null,
   "id": "9653bed2",
   "metadata": {},
   "outputs": [],
   "source": [
    "df.head()"
   ]
  },
  {
   "cell_type": "code",
   "execution_count": null,
   "id": "3f928771",
   "metadata": {},
   "outputs": [],
   "source": [
    "'''\n",
    "Мы видим, что в наборе данных есть 1 нечисловой столбец status_type. Преобразуем его в целочисленные эквиваленты.\n",
    "'''"
   ]
  },
  {
   "cell_type": "code",
   "execution_count": null,
   "id": "e488e483",
   "metadata": {},
   "outputs": [],
   "source": [
    "X = df\n",
    "y = df['status_type']\n",
    "\n",
    "from sklearn.preprocessing import LabelEncoder\n",
    "\n",
    "le = LabelEncoder()\n",
    "\n",
    "X['status_type'] = le.fit_transform(X['status_type'])\n",
    "y = le.transform(y)\n",
    "\n",
    "X.info()"
   ]
  },
  {
   "cell_type": "code",
   "execution_count": null,
   "id": "b557db7f",
   "metadata": {},
   "outputs": [],
   "source": [
    "X.head()"
   ]
  },
  {
   "cell_type": "code",
   "execution_count": null,
   "id": "21f4f53d",
   "metadata": {},
   "outputs": [],
   "source": [
    "# Масштабирование признаков\n",
    "\n",
    "cols = X.columns"
   ]
  },
  {
   "cell_type": "code",
   "execution_count": null,
   "id": "62d89a2e",
   "metadata": {},
   "outputs": [],
   "source": [
    "from sklearn.preprocessing import MinMaxScaler\n",
    "\n",
    "ms = MinMaxScaler()\n",
    "X = ms.fit_transform(X)\n",
    "\n",
    "X = pd.DataFrame(X, columns=[cols])\n",
    "\n",
    "X.head()"
   ]
  },
  {
   "cell_type": "code",
   "execution_count": null,
   "id": "f40e02b5",
   "metadata": {},
   "outputs": [],
   "source": [
    "'''\n",
    "Модель K-Means с двумя кластерами\n",
    "'''"
   ]
  },
  {
   "cell_type": "code",
   "execution_count": null,
   "id": "2dcf50a8",
   "metadata": {},
   "outputs": [],
   "source": [
    "from sklearn.cluster import KMeans\n",
    "\n",
    "kmeans = KMeans(n_clusters=2, random_state=0) \n",
    "\n",
    "kmeans.fit(X)"
   ]
  },
  {
   "cell_type": "code",
   "execution_count": null,
   "id": "e2feb59d",
   "metadata": {},
   "outputs": [],
   "source": [
    "'''\n",
    "Исследование параметров модели K-Means\n",
    "'''"
   ]
  },
  {
   "cell_type": "code",
   "execution_count": null,
   "id": "5e5207c9",
   "metadata": {},
   "outputs": [],
   "source": [
    "kmeans.cluster_centers_"
   ]
  },
  {
   "cell_type": "code",
   "execution_count": null,
   "id": "f6dfc41c",
   "metadata": {},
   "outputs": [],
   "source": [
    "'''\n",
    "Алгоритм KMeans группирует данные, пытаясь разделить выборки на n групп с равными дисперсиями, минимизируя критерий, \n",
    "известный как инерция, или критерий суммы квадратов внутри кластера. Инерция, или критерий суммы квадратов внутри кластера, \n",
    "может быть признана мера того, насколько внутренне согласованы кластеры.\n",
    "Алгоритм k-means делит набор из N выборок X на K непересекающихся кластеров C, \n",
    "каждый из которых описывается средним значением j выборок в кластере. Эти средства обычно называют центроидами кластера.\n",
    "Алгоритм K-Means направлен на выбор центроидов, которые минимизируют инерцию, или сумму квадратов критерия внутри кластера.\n",
    "\n",
    "Инерция\n",
    "Инерция не является нормализованным показателем.\n",
    "\n",
    "Более низкие значения инерции лучше, а ноль является оптимальным.\n",
    "\n",
    "Но в очень многомерных пространствах евклидовы расстояния имеют тенденцию раздуваться (это пример проклятия размерности).\n",
    "\n",
    "Запуск алгоритма уменьшения размерности, такого как PCA, перед кластеризацией k-means может облегчить эту проблему \n",
    "и ускорить вычисления.\n",
    "'''"
   ]
  },
  {
   "cell_type": "code",
   "execution_count": null,
   "id": "c093d507",
   "metadata": {},
   "outputs": [],
   "source": [
    "kmeans.inertia_"
   ]
  },
  {
   "cell_type": "code",
   "execution_count": null,
   "id": "14f49011",
   "metadata": {},
   "outputs": [],
   "source": [
    "'''\n",
    "Чем меньше инерция модели, тем лучше она подходит.\n",
    "Мы видим, что модель имеет очень высокую инерционность. \n",
    "Таким образом, это не очень хорошая модель, соответствующая данным.\n",
    "'''"
   ]
  },
  {
   "cell_type": "code",
   "execution_count": null,
   "id": "02924b39",
   "metadata": {},
   "outputs": [],
   "source": [
    "# Проверка качества слабой классификации по модели\n",
    "\n",
    "labels = kmeans.labels_\n",
    "\n",
    "## проверьте, сколько образцов было правильно маркированоeled\n",
    "correct_labels = sum(y == labels)\n",
    "\n",
    "print(\"Результат: %d из %d образцов были правильно маркированы.\" % (correct_labels, y.size))"
   ]
  },
  {
   "cell_type": "code",
   "execution_count": null,
   "id": "21f982cc",
   "metadata": {},
   "outputs": [],
   "source": [
    "'''\n",
    "С помощью нашей неконтролируемой модели мы достигли слабой точности классификации в 1%.\n",
    "'''"
   ]
  },
  {
   "cell_type": "code",
   "execution_count": null,
   "id": "1668de61",
   "metadata": {},
   "outputs": [],
   "source": [
    "'''\n",
    "Используем elbow method, чтобы найти оптимальное количество кластеров.\n",
    "'''"
   ]
  },
  {
   "cell_type": "code",
   "execution_count": null,
   "id": "ab2fcd02",
   "metadata": {},
   "outputs": [],
   "source": [
    "from sklearn.cluster import KMeans\n",
    "cs = []\n",
    "for i in range(1, 11):\n",
    "    kmeans = KMeans(n_clusters = i, init = 'k-means++', max_iter = 300, n_init = 10, random_state = 0)\n",
    "    kmeans.fit(X)\n",
    "    cs.append(kmeans.inertia_)\n",
    "plt.plot(range(1, 11), cs)\n",
    "plt.title('The Elbow Method')\n",
    "plt.xlabel('Number of clusters')\n",
    "plt.ylabel('CS')\n",
    "plt.show()"
   ]
  },
  {
   "cell_type": "code",
   "execution_count": null,
   "id": "c050371f",
   "metadata": {},
   "outputs": [],
   "source": [
    "'''\n",
    "На приведенном выше графике мы видим, что при k = 2 имеется излом.\n",
    "Следовательно, k=2 можно считать подходящим номером кластера для кластеризации этих данных.\n",
    "Но мы видели, что я достиг слабой точности классификации в 1% при k = 2.\n",
    "Для удобства я снова напишу требуемый код с k=2.\n",
    "'''"
   ]
  },
  {
   "cell_type": "code",
   "execution_count": null,
   "id": "885691dc",
   "metadata": {},
   "outputs": [],
   "source": [
    "from sklearn.cluster import KMeans\n",
    "\n",
    "kmeans = KMeans(n_clusters=2,random_state=0)\n",
    "\n",
    "kmeans.fit(X)\n",
    "\n",
    "labels = kmeans.labels_\n",
    "\n",
    "correct_labels = sum(y == labels)\n",
    "\n",
    "print(\"Результат: %d из %d образцов были правильно маркированы.\" % (correct_labels, y.size))\n",
    "\n",
    "print('Оценка точности: {0:0.2f}'. format(correct_labels/float(y.size)))"
   ]
  },
  {
   "cell_type": "code",
   "execution_count": null,
   "id": "37a3a2a7",
   "metadata": {},
   "outputs": [],
   "source": [
    "'''\n",
    "Таким образом, наша слабая модель неконтролируемой классификации достигла очень низкой точности классификации — 1%.\n",
    "Проверим точность модели на разном количестве кластеров.\n",
    "'''"
   ]
  },
  {
   "cell_type": "code",
   "execution_count": null,
   "id": "7258fb3d",
   "metadata": {},
   "outputs": [],
   "source": [
    "# Модель KMeans с 3 кластерами\n",
    "\n",
    "kmeans = KMeans(n_clusters=3, random_state=0)\n",
    "\n",
    "kmeans.fit(X)\n",
    "\n",
    "labels = kmeans.labels_\n",
    "\n",
    "correct_labels = sum(y == labels)\n",
    "print(\"Результат: %d из %d образцов были правильно маркированы.\" % (correct_labels, y.size))\n",
    "print('Оценка точности: {0:0.2f}'. format(correct_labels/float(y.size)))"
   ]
  },
  {
   "cell_type": "code",
   "execution_count": null,
   "id": "e59845d7",
   "metadata": {},
   "outputs": [],
   "source": [
    "# Модель KMeans с 4 кластерами\n",
    "\n",
    "kmeans = KMeans(n_clusters=4, random_state=0)\n",
    "\n",
    "kmeans.fit(X)\n",
    "\n",
    "labels = kmeans.labels_\n",
    "\n",
    "correct_labels = sum(y == labels)\n",
    "print(\"Результат: %d из %d образцов были правильно маркированы.\" % (correct_labels, y.size))\n",
    "print('Оценка точности: {0:0.2f}'. format(correct_labels/float(y.size)))"
   ]
  },
  {
   "cell_type": "code",
   "execution_count": null,
   "id": "00133716",
   "metadata": {},
   "outputs": [],
   "source": [
    "# Модель KMeans с 5 кластерами\n",
    "\n",
    "kmeans = KMeans(n_clusters=5, random_state=0)\n",
    "\n",
    "kmeans.fit(X)\n",
    "\n",
    "labels = kmeans.labels_\n",
    "\n",
    "correct_labels = sum(y == labels)\n",
    "print(\"Результат: %d из %d образцов были правильно маркированы.\" % (correct_labels, y.size))\n",
    "print('Оценка точности: {0:0.2f}'. format(correct_labels/float(y.size)))"
   ]
  },
  {
   "cell_type": "code",
   "execution_count": null,
   "id": "99e7aa6a",
   "metadata": {},
   "outputs": [],
   "source": [
    "'''\n",
    "Мы достигли относительно высокой точности 62% при k=4.\n",
    "При k=5 точность снизилась.\n",
    "'''"
   ]
  },
  {
   "cell_type": "code",
   "execution_count": null,
   "id": "395950bf",
   "metadata": {},
   "outputs": [],
   "source": [
    "'''\n",
    "В этом проекте я реализовал самый популярный метод неконтролируемой кластеризации, называемый кластеризацией K-Means.\n",
    "\n",
    "Я применил elbow method и обнаружил, что k = 2 (k — количество кластеров) можно считать подходящим количеством \n",
    "кластеров для кластеризации этих данных.\n",
    "\n",
    "Я обнаружил, что модель имеет очень высокую инерцию — 237,7572. \n",
    "Таким образом, это не очень хорошая модель, соответствующая данным.\n",
    "\n",
    "С помощью нашей неконтролируемой модели я достиг слабой точности классификации в 1% при k=2.\n",
    "\n",
    "Итак, я изменил значение k и обнаружил относительно более высокую точность классификации - 62% при k = 4.\n",
    "\n",
    "При этом при k = 5, точность кпала до 1%.\n",
    "\n",
    "Следовательно, мы можем заключить, что k = 4 — оптимальное количество кластеров\n",
    "'''"
   ]
  }
 ],
 "metadata": {
  "kernelspec": {
   "display_name": "Python 3 (ipykernel)",
   "language": "python",
   "name": "python3"
  },
  "language_info": {
   "codemirror_mode": {
    "name": "ipython",
    "version": 3
   },
   "file_extension": ".py",
   "mimetype": "text/x-python",
   "name": "python",
   "nbconvert_exporter": "python",
   "pygments_lexer": "ipython3",
   "version": "3.9.13"
  }
 },
 "nbformat": 4,
 "nbformat_minor": 5
}
